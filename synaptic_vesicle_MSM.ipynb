{
 "cells": [
  {
   "cell_type": "markdown",
   "id": "2b8725eb-afa2-483d-be7c-cf2386193a10",
   "metadata": {},
   "source": [
    "## Dynamic nanoscale architecture of synaptic vesicle fusion in mouse hippocampal neurons\n",
    "### Mesoscopic simulation of synaptic vesicle docking -- part 3: Markov State Model"
   ]
  },
  {
   "cell_type": "code",
   "execution_count": null,
   "id": "7c99ae32-5301-4d9f-954a-86e385bf3489",
   "metadata": {},
   "outputs": [],
   "source": [
    "import numpy as np\n",
    "from utilities import visualization as vis\n",
    "from scipy.optimize import minimize"
   ]
  },
  {
   "cell_type": "code",
   "execution_count": null,
   "id": "6313df65-d38b-45b4-8eff-0d47eb032c1c",
   "metadata": {},
   "outputs": [],
   "source": [
    "def build_transition_matrix(chain_transition_probs, template_matrix):\n",
    "    \"\"\"\n",
    "    Constructs the transition matrix based on a sparse template matrix\n",
    "    \"\"\"\n",
    "\n",
    "    assert template_matrix.shape[0] == template_matrix.shape[1]\n",
    "    N = template_matrix.shape[0]\n",
    "\n",
    "    assert len(chain_transition_probs) == np.sum(template_matrix) - N\n",
    "    \n",
    "    P = np.zeros((N, N))\n",
    "\n",
    "    current_index = 0\n",
    "    \n",
    "    for i in range(N):\n",
    "        last_index_in_row = 0\n",
    "        for j in range(N):\n",
    "            if template_matrix[i, j] > 0:\n",
    "                last_index_in_row = j\n",
    "        \n",
    "        for j in range(last_index_in_row):\n",
    "            if template_matrix[i, j] > 0:\n",
    "                P[i, j] = chain_transition_probs[current_index]\n",
    "                \n",
    "                current_index += 1\n",
    "\n",
    "        total_sum_of_row = np.sum(P[i, :])\n",
    "        \n",
    "        if total_sum_of_row > 1.0:\n",
    "            P[i, :] = 0.999 * P[i, :] / total_sum_of_row\n",
    "            total_sum_of_row = np.sum(P[i, :])\n",
    "            \n",
    "        P[i, last_index_in_row] = 1.0 - total_sum_of_row\n",
    "\n",
    "    return P"
   ]
  },
  {
   "cell_type": "code",
   "execution_count": null,
   "id": "128b6f2e-0e79-49ee-b2b9-7e9224f530ba",
   "metadata": {},
   "outputs": [],
   "source": [
    "def objective(chain_transition_probs, template_matrix, pi_0, pi_t_observed, t):\n",
    "    \n",
    "    P = build_transition_matrix(chain_transition_probs, template_matrix)\n",
    "    \n",
    "    P_t = np.linalg.matrix_power(P, t)\n",
    "    pi_t_pred = pi_0 @ P_t\n",
    "    \n",
    "    return np.linalg.norm(pi_t_pred - pi_t_observed)"
   ]
  },
  {
   "cell_type": "code",
   "execution_count": null,
   "id": "21c09a64-df21-4176-8678-fa49f5e179bc",
   "metadata": {},
   "outputs": [],
   "source": [
    "def fit_chain_markov_model(pi_t_observed, template_matrix, t, optimization_target=5.0e-9):\n",
    "\n",
    "    assert template_matrix.shape[0] == template_matrix.shape[1]\n",
    "\n",
    "    N = template_matrix.shape[0]\n",
    "    \n",
    "    # N conditions on sum of the rows\n",
    "    n_variables = np.sum(template_matrix) - N\n",
    "    \n",
    "    pi_0 = np.zeros(N)\n",
    "    pi_0[0] = 1.0  # All start in state 1\n",
    "\n",
    "    min_fun = 1e10\n",
    "\n",
    "    i = 0\n",
    "\n",
    "    x0 = np.zeros(n_variables)\n",
    "    \n",
    "    while min_fun > optimization_target:\n",
    "\n",
    "        current_index = 0\n",
    "        \n",
    "        for j in range(N):\n",
    "            n_variables_in_row = np.sum(template_matrix[j, :]) - 1\n",
    "            \n",
    "            x0[current_index:current_index + n_variables_in_row] = 0.9 * np.random.random_sample(n_variables_in_row) / float(n_variables_in_row + 1)\n",
    "\n",
    "            current_index += n_variables_in_row\n",
    "    \n",
    "        # Bounds: transition probs between 0 and 1\n",
    "        bounds = [(0.0, 1.0)] * n_variables\n",
    "    \n",
    "        result = minimize(objective, x0, args=(template_matrix, pi_0, pi_t_observed, t),\n",
    "                          bounds=bounds, tol=1.0e-12, options={'maxiter' : 1000000})\n",
    "        \n",
    "        if not result.success:\n",
    "            continue\n",
    "        else:\n",
    "            i += 1\n",
    "            if i % 100 == 0:\n",
    "                print(f\"iteration: {i} finished successfully! function value = {result.fun}\")\n",
    "\n",
    "        if result.fun < min_fun:\n",
    "            min_fun = result.fun\n",
    "            best_transition_probs = result.x\n",
    "            print(f\"current best: {result.fun}\")\n",
    "        \n",
    "    return build_transition_matrix(best_transition_probs, template_matrix), best_transition_probs\n",
    "    "
   ]
  },
  {
   "cell_type": "code",
   "execution_count": null,
   "id": "41c57c34-b2e7-45c4-aa4e-50d0e5ebced0",
   "metadata": {},
   "outputs": [],
   "source": []
  },
  {
   "cell_type": "markdown",
   "id": "f1e821dd-249c-474d-91ee-4b17aa30d7d0",
   "metadata": {},
   "source": [
    "Setting global variables:"
   ]
  },
  {
   "cell_type": "code",
   "execution_count": null,
   "id": "0524091a-3035-416d-ab54-a15b2d206658",
   "metadata": {},
   "outputs": [],
   "source": [
    "# Minimum error acceptable in optimization\n",
    "min_error = 3.0e-9\n",
    "\n",
    "total_time = 2.0 #ms\n",
    "# Let's consider each step to happen in 0.2 ms\n",
    "dt = 0.2\n",
    "# Number of steps until total freezing\n",
    "t = int(total_time / dt)\n",
    "dt = total_time / t\n",
    "print(f\"t = {t} steps, dt = {dt} ms\")"
   ]
  },
  {
   "cell_type": "markdown",
   "id": "c5185ffd-d123-49a9-ad2e-61dc64110c13",
   "metadata": {},
   "source": [
    "## Case 1: without the tight-docking state\n",
    "\n",
    "States defined in this case:\n",
    "\n",
    " - 1: Invagination\n",
    " - 2: Stalk formation\n",
    " - 3: Closed fusion pore\n",
    " - 4: Open fusion pore\n",
    " - 5: Dilating fusion pore\n",
    " - 6: Collapsing fusion pore\n",
    " - 7: Bump"
   ]
  },
  {
   "cell_type": "code",
   "execution_count": null,
   "id": "fa636c6e-3129-4052-8a97-434f3da83b7b",
   "metadata": {},
   "outputs": [],
   "source": [
    "# Based on the number of observation of each state\n",
    "p_observed_1 = np.array([10.0, 22.0, 6.0, 7.0, 8.0, 12.0, 21.0])\n",
    "p_observed_1 = p_observed_1 / np.sum(p_observed_1)\n",
    "\n",
    "print(p_observed_1)"
   ]
  },
  {
   "cell_type": "markdown",
   "id": "4fb2226c-a76d-42cb-b19c-6a9cf7bebbb9",
   "metadata": {},
   "source": [
    "Fitting the Markov State Model via minimizing the difference between the predicted and observed probabilities of each state:"
   ]
  },
  {
   "cell_type": "code",
   "execution_count": null,
   "id": "3e3b4770-eb64-40b0-a3fe-75c94a6f7f85",
   "metadata": {},
   "outputs": [],
   "source": [
    "template_matrix = np.array([[1, 1, 0, 0, 0, 0, 0],\n",
    "                            [1, 1, 1, 0, 0, 0, 0],\n",
    "                            [0, 0, 1, 1, 0, 0, 0],\n",
    "                            [0, 0, 0, 1, 1, 0, 0],\n",
    "                            [0, 0, 0, 0, 1, 1, 0],\n",
    "                            [0, 0, 0, 0, 0, 1, 1],\n",
    "                            [0, 0, 0, 0, 0, 0, 1]])\n",
    "\n",
    "P_fitted_1, chain_transition_probs_1 = fit_chain_markov_model(p_observed_1, template_matrix, t, min_error)\n",
    "\n",
    "print(\"Fitted transition matrix:\")\n",
    "print(P_fitted_1)\n",
    "\n",
    "print(\"\\nEstimated transition probabilities (p_i):\")\n",
    "print(chain_transition_probs_1)"
   ]
  },
  {
   "cell_type": "markdown",
   "id": "79451193-80e1-4d21-a412-fcfa2e9a74b1",
   "metadata": {},
   "source": [
    "Comparing the predicted and observed probabilities (sanity check on the optimization procedure):"
   ]
  },
  {
   "cell_type": "code",
   "execution_count": null,
   "id": "fe014908-5fc4-4c78-88df-32d48ec64033",
   "metadata": {},
   "outputs": [],
   "source": [
    "pi_current = np.zeros_like(p_observed_1)\n",
    "pi_current[0] = 1.0\n",
    "\n",
    "pi_list = []\n",
    "\n",
    "for i in range(t):\n",
    "    pi_list.append(pi_current.copy())\n",
    "    pi_current = pi_current @ P_fitted_1\n",
    "\n",
    "pi_list = np.array(pi_list)\n",
    "\n",
    "print(pi_current)\n",
    "print(p_observed_1)"
   ]
  },
  {
   "cell_type": "code",
   "execution_count": null,
   "id": "2b56b788-53ae-44b0-9f5a-3392e188463f",
   "metadata": {},
   "outputs": [],
   "source": [
    "labels = {0: \"1\",\n",
    "          1: \"2\",\n",
    "          2: \"3\",\n",
    "          3: \"4\",\n",
    "          4: \"5\",\n",
    "          5: \"6\",\n",
    "          6: \"7\"}\n",
    "\n",
    "node_color = [vis.hex_to_rgb('#e55d79'),\n",
    "              vis.hex_to_rgb('#e89096'),\n",
    "              vis.hex_to_rgb('#f1af98'),\n",
    "              vis.hex_to_rgb('#f9cc84'),\n",
    "              vis.hex_to_rgb('#a0cb97'),\n",
    "              vis.hex_to_rgb('#7abdac'),\n",
    "              vis.hex_to_rgb('#398ea7')]\n",
    "\n",
    "fig = vis.visualize_markov_chain(P_fitted_1, dt, use_timescale_instead_of_probabilities=True,\n",
    "                       labels=labels, node_color=node_color)"
   ]
  },
  {
   "cell_type": "markdown",
   "id": "766103b1-1bdd-4d7e-85c1-e7fb304eae90",
   "metadata": {},
   "source": [
    "## Case 2: With the tight-docking state in between 2 and 3\n",
    "\n",
    "States defined in this case:\n",
    "\n",
    " - 1: Invagination\n",
    " - 2: Stalk formation\n",
    " - 2': Tight docking\n",
    " - 3: Closed fusion pore\n",
    " - 4: Open fusion pore\n",
    " - 5: Dilating fusion pore\n",
    " - 6: Collapsing fusion pore\n",
    " - 7: Bump\n"
   ]
  },
  {
   "cell_type": "code",
   "execution_count": null,
   "id": "90e48e9e-fab6-4f00-8fa3-8376aed73bcd",
   "metadata": {},
   "outputs": [],
   "source": [
    "p_observed_2 = np.array([10.0, 22.0, 1.0, 6.0, 7.0, 8.0, 12.0, 21.0])\n",
    "p_observed_2 = p_observed_2 / np.sum(p_observed_2)\n",
    "\n",
    "print(p_observed_2)"
   ]
  },
  {
   "cell_type": "code",
   "execution_count": null,
   "id": "da9af463-b6f3-4acb-afff-f216e486fe2e",
   "metadata": {},
   "outputs": [],
   "source": [
    "#----------------------------1  2  2' 3  4  5  6  7\n",
    "template_matrix = np.array([[1, 1, 0, 0, 0, 0, 0, 0],\n",
    "                            [1, 1, 1, 1, 0, 0, 0, 0],\n",
    "                            [0, 0, 1, 1, 0, 0, 0, 0],\n",
    "                            [0, 0, 0, 1, 1, 0, 0, 0],\n",
    "                            [0, 0, 0, 0, 1, 1, 0, 0],\n",
    "                            [0, 0, 0, 0, 0, 1, 1, 0],\n",
    "                            [0, 0, 0, 0, 0, 0, 1, 1],\n",
    "                            [0, 0, 0, 0, 0, 0, 0, 1]])\n",
    "\n",
    "P_fitted_2, chain_transition_probs_2 = fit_chain_markov_model(p_observed_2, template_matrix, t, min_error)\n",
    "\n",
    "print(\"Fitted transition matrix:\")\n",
    "print(P_fitted_2)\n",
    "\n",
    "print(\"\\nEstimated transition probabilities (p_i):\")\n",
    "print(chain_transition_probs_2)"
   ]
  },
  {
   "cell_type": "code",
   "execution_count": null,
   "id": "78b4f7f1-0102-4d95-9b2b-4473b2668338",
   "metadata": {},
   "outputs": [],
   "source": [
    "pi_current = np.zeros_like(p_observed_2)\n",
    "pi_current[0] = 1.0\n",
    "\n",
    "pi_list = []\n",
    "\n",
    "for i in range(t):\n",
    "    pi_list.append(pi_current.copy())\n",
    "    pi_current = pi_current @ P_fitted_2\n",
    "\n",
    "pi_list = np.array(pi_list)\n",
    "\n",
    "print(pi_current)\n",
    "print(p_observed_2)"
   ]
  },
  {
   "cell_type": "code",
   "execution_count": null,
   "id": "b7219136-7b8d-4503-9a79-7771549f2b99",
   "metadata": {},
   "outputs": [],
   "source": [
    "labels = {0: \"1\",\n",
    "          1: \"2\",\n",
    "          2: r\"2$^\\prime$\",\n",
    "          3: \"3\",\n",
    "          4: \"4\",\n",
    "          5: \"5\",\n",
    "          6: \"6\",\n",
    "          7: \"7\"}\n",
    "\n",
    "node_color = [vis.hex_to_rgb('#e55d79'),\n",
    "              vis.hex_to_rgb('#e89096'),\n",
    "              vis.hex_to_rgb('#e89096'),\n",
    "              vis.hex_to_rgb('#f1af98'),\n",
    "              vis.hex_to_rgb('#f9cc84'),\n",
    "              vis.hex_to_rgb('#a0cb97'),\n",
    "              vis.hex_to_rgb('#7abdac'),\n",
    "              vis.hex_to_rgb('#398ea7')]\n",
    "\n",
    "pos = {}\n",
    "\n",
    "pos[0] = (0, 0)\n",
    "pos[1] = (1, 0)\n",
    "pos[2] = (1, -1)\n",
    "\n",
    "for i in range(3, 8):\n",
    "    pos[i] = (i - 1, 0)\n",
    "    \n",
    "fig = vis.visualize_markov_chain(P_fitted_2, dt, pos, use_timescale_instead_of_probabilities=True,\n",
    "                       labels=labels, node_color=node_color)"
   ]
  },
  {
   "cell_type": "code",
   "execution_count": null,
   "id": "c6085df6-e909-497e-a1ec-41155f55ea86",
   "metadata": {},
   "outputs": [],
   "source": []
  },
  {
   "cell_type": "markdown",
   "id": "86ca32c7-ce6b-4f08-a1f9-057ddcaf40b4",
   "metadata": {},
   "source": [
    "## Case 3: With the tight-docking state in between 1 and 2\n",
    "\n",
    "States defined in this case:\n",
    "\n",
    " - 1: Invagination\n",
    " - 1': Tight docking\n",
    " - 2: Stalk formation\n",
    " - 3: Closed fusion pore\n",
    " - 4: Open fusion pore\n",
    " - 5: Dilating fusion pore\n",
    " - 6: Collapsing fusion pore\n",
    " - 7: Bump\n"
   ]
  },
  {
   "cell_type": "code",
   "execution_count": null,
   "id": "97204da3-6f1a-4050-89bd-021239719f67",
   "metadata": {},
   "outputs": [],
   "source": [
    "p_observed_3 = np.array([10.0, 1.0, 22.0, 6.0, 7.0, 8.0, 12.0, 21.0])\n",
    "p_observed_3 = p_observed_3 / np.sum(p_observed_3)\n",
    "\n",
    "print(p_observed_3)"
   ]
  },
  {
   "cell_type": "code",
   "execution_count": null,
   "id": "8bbfc222-3d44-422e-9831-3f87506359b3",
   "metadata": {},
   "outputs": [],
   "source": [
    "#----------------------------1  1' 2  3  4  5  6  7\n",
    "template_matrix = np.array([[1, 1, 1, 0, 0, 0, 0, 0],  #1\n",
    "                            [0, 1, 1, 0, 0, 0, 0, 0],  #1'\n",
    "                            [1, 0, 1, 1, 0, 0, 0, 0],  #2\n",
    "                            [0, 0, 0, 1, 1, 0, 0, 0],  #3\n",
    "                            [0, 0, 0, 0, 1, 1, 0, 0],  #4\n",
    "                            [0, 0, 0, 0, 0, 1, 1, 0],  #5\n",
    "                            [0, 0, 0, 0, 0, 0, 1, 1],  #6\n",
    "                            [0, 0, 0, 0, 0, 0, 0, 1]]) #7\n",
    "\n",
    "P_fitted_3, chain_transition_probs_3 = fit_chain_markov_model(p_observed_3, template_matrix, t, min_error)\n",
    "\n",
    "print(\"Fitted transition matrix:\")\n",
    "print(P_fitted_3)\n",
    "\n",
    "print(\"\\nEstimated transition probabilities (p_i):\")\n",
    "print(chain_transition_probs_3)"
   ]
  },
  {
   "cell_type": "code",
   "execution_count": null,
   "id": "3bf0a9bb-bc74-453f-8ea7-c2382d788251",
   "metadata": {},
   "outputs": [],
   "source": [
    "pi_current = np.zeros_like(p_observed_3)\n",
    "pi_current[0] = 1.0\n",
    "\n",
    "pi_list = []\n",
    "\n",
    "for i in range(t):\n",
    "    pi_list.append(pi_current.copy())\n",
    "    pi_current = pi_current @ P_fitted_3\n",
    "\n",
    "pi_list = np.array(pi_list)\n",
    "\n",
    "print(pi_current)\n",
    "print(p_observed_3)"
   ]
  },
  {
   "cell_type": "code",
   "execution_count": null,
   "id": "f767af3f-0d0c-4d26-bfdd-bd7de23e4169",
   "metadata": {},
   "outputs": [],
   "source": [
    "labels = {0: \"1\",\n",
    "          1: r\"1$^\\prime$\",\n",
    "          2: \"2\",\n",
    "          3: \"3\",\n",
    "          4: \"4\",\n",
    "          5: \"5\",\n",
    "          6: \"6\",\n",
    "          7: \"7\"}\n",
    "\n",
    "node_color = [vis.hex_to_rgb('#e55d79'),\n",
    "              vis.hex_to_rgb('#e55d79'),\n",
    "              vis.hex_to_rgb('#e89096'),\n",
    "              vis.hex_to_rgb('#f1af98'),\n",
    "              vis.hex_to_rgb('#f9cc84'),\n",
    "              vis.hex_to_rgb('#a0cb97'),\n",
    "              vis.hex_to_rgb('#7abdac'),\n",
    "              vis.hex_to_rgb('#398ea7')]\n",
    "\n",
    "pos = {}\n",
    "\n",
    "pos[0] = (0, 0)\n",
    "pos[1] = (0, -1)\n",
    "for i in range(2, 8):\n",
    "    pos[i] = (i - 1, 0)\n",
    "    \n",
    "fig = vis.visualize_markov_chain(P_fitted_3, dt, pos, use_timescale_instead_of_probabilities=True,\n",
    "                       labels=labels, node_color=node_color)"
   ]
  },
  {
   "cell_type": "code",
   "execution_count": null,
   "id": "cf34a00b-e4c6-4a91-bac1-3566abd655a6",
   "metadata": {},
   "outputs": [],
   "source": []
  },
  {
   "cell_type": "code",
   "execution_count": null,
   "id": "09cb600f-3679-481d-84a9-e2e9e9943396",
   "metadata": {},
   "outputs": [],
   "source": []
  }
 ],
 "metadata": {
  "kernelspec": {
   "display_name": "Python 3 (ipykernel)",
   "language": "python",
   "name": "python3"
  },
  "language_info": {
   "codemirror_mode": {
    "name": "ipython",
    "version": 3
   },
   "file_extension": ".py",
   "mimetype": "text/x-python",
   "name": "python",
   "nbconvert_exporter": "python",
   "pygments_lexer": "ipython3",
   "version": "3.13.5"
  }
 },
 "nbformat": 4,
 "nbformat_minor": 5
}
