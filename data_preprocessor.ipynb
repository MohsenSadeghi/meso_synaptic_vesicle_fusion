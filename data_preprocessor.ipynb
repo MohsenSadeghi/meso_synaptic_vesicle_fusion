{
 "cells": [
  {
   "cell_type": "markdown",
   "id": "c74e692c-4300-4779-9b42-6fdad38ecef1",
   "metadata": {},
   "source": [
    "## Dynamic nanoscale architecture of synaptic vesicle fusion in mouse hippocampal neurons\n",
    "### Mesoscopic simulation of synaptic vesicle docking -- data pre-processing\n",
    "\n",
    "Use this notebook to download and pre-processes the simulation trajectory files."
   ]
  },
  {
   "cell_type": "code",
   "execution_count": null,
   "id": "28eefba8-2251-4c97-a09b-8c15159580c6",
   "metadata": {},
   "outputs": [],
   "source": [
    "import glob\n",
    "import urllib\n",
    "import pandas as pd\n",
    "import numpy as np\n",
    "import h5py\n",
    "import matplotlib.pyplot as plt\n",
    "import pickle\n",
    "from tqdm.notebook import tqdm"
   ]
  },
  {
   "cell_type": "markdown",
   "id": "7ad9ee42-b746-40d5-8b59-9c8a4a404fb3",
   "metadata": {},
   "source": [
    "### Downloading trajectory data\n",
    "\n",
    "The next cell will check if the HDF5 data files are already present in the ```./trajectory``` directory.\n",
    "If not, they will be automatically downloaded from the public ftp repository at https://ftp.mi.fu-berlin.de/pub/msadeghi/synaptic_vesicle."
   ]
  },
  {
   "cell_type": "code",
   "execution_count": null,
   "id": "631c7a9c-d64e-42d3-85f8-c23ffb82f655",
   "metadata": {},
   "outputs": [],
   "source": [
    "simulation_id = \"2024_12_06\"\n",
    "n_syt1_list = [0, 10, 20, 30]\n",
    "n_replicas = 5\n",
    "\n",
    "hd5_file_name_list = []\n",
    "\n",
    "for n_syt1 in tqdm(n_syt1_list):\n",
    "\n",
    "    for replica_ind in range(1, n_replicas + 1):\n",
    "    \n",
    "        data_file_name = f\"synaptic_vesicle_docking_n_syt1_{n_syt1}_replica_{replica_ind}_{simulation_id}.h5\"\n",
    "        data_file_path = f\"./trajectory/{data_file_name}\"\n",
    "\n",
    "        print(f\"Checking for {data_file_name}...\")\n",
    "        \n",
    "        if not glob.glob(data_file_path):\n",
    "    \n",
    "            url = rf\"https://ftp.mi.fu-berlin.de/pub/msadeghi/synaptic_vesicle/{data_file_name}\"\n",
    "            \n",
    "            print(f\"Downloading data file from {url}...\")\n",
    "        \n",
    "            urllib.request.urlretrieve(url, data_file_path)\n",
    "            \n",
    "        else:\n",
    "            \n",
    "            print(\"Data file already exists!\")\n",
    "                \n",
    "        hd5_file_name_list.append(data_file_path)"
   ]
  },
  {
   "cell_type": "code",
   "execution_count": null,
   "id": "9b48ac7a-d931-4730-a871-de7fe239a6d1",
   "metadata": {},
   "outputs": [],
   "source": [
    "n_cases = len(n_syt1_list)\n",
    "\n",
    "fig, ax = plt.subplots(nrows=n_cases, ncols=1, figsize=(5, 4 * n_cases))\n",
    "plt.subplots_adjust(hspace=0.5)\n",
    "\n",
    "dfs = []\n",
    "\n",
    "for hd5_file_name in hd5_file_name_list:\n",
    "\n",
    "    split_file_name = hd5_file_name.split('_')\n",
    "\n",
    "    n_syt1 = int(split_file_name[split_file_name.index('syt1') + 1])\n",
    "    replica_ind = int(split_file_name[split_file_name.index('replica') + 1])\n",
    "    \n",
    "    print(f\"reading data for the simulation with {n_syt1} curvature-inducing proteins, replica = {replica_ind}\")\n",
    "    \n",
    "    with h5py.File(hd5_file_name, 'r') as file:\n",
    "        \n",
    "        # Access a specific dataset\n",
    "        dataset_parent = file['observables']\n",
    "\n",
    "        data = {'time' : np.empty((0,)),\n",
    "                'enthalpy' : np.empty((0,)),\n",
    "                'en_non_bonded' : np.empty((0,)),\n",
    "                'vesicle_target_gap' : np.empty((0,))}\n",
    "    \n",
    "        current_time = 0.0\n",
    "        \n",
    "        for series, dataset in dataset_parent.items():\n",
    "            \n",
    "            data['time'] = np.concatenate((data['time'], current_time + np.array(dataset['Time [ms]']) * 1.0e3)) # in microseconds\n",
    "            \n",
    "            current_time = data['time'][-1]\n",
    "            \n",
    "            data['en_non_bonded'] = np.concatenate((data['en_non_bonded'], np.array(dataset['Non-bonded Potential Energy [kJ per mol]'])))\n",
    "            data['enthalpy'] = np.concatenate((data['enthalpy'], np.array(dataset['Enthalpy [kJ per mol]'])))\n",
    "        \n",
    "            data['vesicle_target_gap'] = np.concatenate((data['vesicle_target_gap'], np.array(dataset['Vesicle-target gap [nm]'])))\n",
    "\n",
    "        dataset = file['particles']['group1']\n",
    "        \n",
    "        species_name_dict = dict(zip(file['parameters']['vmd_structure']['name'],\n",
    "                                     file['parameters']['vmd_structure']['indexOfSpecies']))\n",
    "        \n",
    "        pos_list = np.array(dataset['position']['value'], copy=True, dtype=np.float64)\n",
    "        type_list = np.array(dataset['species'], copy=True, dtype=np.float64)\n",
    "        box_dim = np.array(dataset['box']['edges']['value'], copy=True, dtype=np.float64)\n",
    "        \n",
    "        selection = ((type_list == species_name_dict[b\"MEMBRANE_1\"]) +\n",
    "                     (type_list == species_name_dict[b\"MEMBRANE_2\"]) +\n",
    "                    (type_list == species_name_dict[b\"Syt1\"]) +\n",
    "                    (type_list == species_name_dict[b\"munc13_anchor\"])+\n",
    "                    (type_list == species_name_dict[b\"t_SNARE_anchor\"])+\n",
    "                    (type_list == species_name_dict[b\"v_SNARE_anchor\"]))\n",
    "\n",
    "        df = pd.DataFrame(data)\n",
    "\n",
    "        df[\"n_syt1\"] = n_syt1\n",
    "        df[\"replica\"] = replica_ind\n",
    "        df[\"particle_types\"] = [type_list] * (pos_list.shape[0] - 1)\n",
    "\n",
    "        df['membrane_pos'] = [arr for arr in pos_list[1:, selection, :]]\n",
    "        df['all_pos'] = [arr for arr in pos_list[1:, :, :]]\n",
    "        df['box_dim'] = [arr for arr in np.diagonal(box_dim[1:, :], axis1=1, axis2=2)]\n",
    "\n",
    "        dfs.append(df)\n",
    "\n",
    "    ax_ind = n_syt1_list.index(n_syt1)\n",
    "\n",
    "    ax[ax_ind].set_title(f\"number of proteins = {n_syt1}\")\n",
    "    ax[ax_ind].plot(data['time'], data['vesicle_target_gap'], label=f'replica {replica_ind}')\n",
    "    ax[ax_ind].set_xlabel(r\"Time [$\\mu$s]\")\n",
    "    ax[ax_ind].set_ylabel(\"Vesicle-target gap [nm]\")\n",
    "        \n",
    "    ax[ax_ind].legend()\n",
    "    \n",
    "combined_df = pd.concat(dfs, ignore_index=True)"
   ]
  },
  {
   "cell_type": "markdown",
   "id": "a7a7d3fc-d561-4f44-8bfc-d0653683d96c",
   "metadata": {},
   "source": [
    "The necessary parts of the loaded data, which are accumulated into a pandas DataFrame, are pickled for further use in other notebooks:"
   ]
  },
  {
   "cell_type": "code",
   "execution_count": null,
   "id": "c9d82584-8657-4357-89e3-987cb0ac564b",
   "metadata": {},
   "outputs": [],
   "source": [
    "combined_df.to_pickle(\"./trajectory/combined_data.pkl\")"
   ]
  },
  {
   "cell_type": "code",
   "execution_count": null,
   "id": "3d529b22-5423-4889-a33e-3262a47713ab",
   "metadata": {},
   "outputs": [],
   "source": []
  }
 ],
 "metadata": {
  "kernelspec": {
   "display_name": "Python 3 (ipykernel)",
   "language": "python",
   "name": "python3"
  },
  "language_info": {
   "codemirror_mode": {
    "name": "ipython",
    "version": 3
   },
   "file_extension": ".py",
   "mimetype": "text/x-python",
   "name": "python",
   "nbconvert_exporter": "python",
   "pygments_lexer": "ipython3",
   "version": "3.13.5"
  }
 },
 "nbformat": 4,
 "nbformat_minor": 5
}
